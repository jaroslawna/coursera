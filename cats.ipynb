{
 "cells": [
  {
   "cell_type": "markdown",
   "id": "a30f08d7",
   "metadata": {},
   "source": [
    "# My Jupyter Notebook on IBM Watson Studio"
   ]
  },
  {
   "cell_type": "markdown",
   "id": "72774cab",
   "metadata": {},
   "source": [
    "**Jaroslawna Jakowlewa**\n",
    "\n",
    "Student"
   ]
  },
  {
   "cell_type": "markdown",
   "id": "ef6e8857",
   "metadata": {},
   "source": [
    "*I am interested in data science because it gives me a new point of view for my current profession*"
   ]
  },
  {
   "cell_type": "markdown",
   "id": "5268fcc7",
   "metadata": {},
   "source": [
    "### The following code counts how many cats I have"
   ]
  },
  {
   "cell_type": "code",
   "execution_count": 5,
   "id": "a9e75ee5",
   "metadata": {},
   "outputs": [
    {
     "name": "stdout",
     "output_type": "stream",
     "text": [
      "I have 3 cats\n"
     ]
    }
   ],
   "source": [
    "cats = str(1 + 1 + 1)\n",
    "print('I have ' + cats + ' cats')"
   ]
  },
  {
   "cell_type": "markdown",
   "id": "c9e5a4c0",
   "metadata": {},
   "source": [
    "They are:\n",
    "1. Fluffy \n",
    "2. Toffie\n",
    "3. Effy"
   ]
  },
  {
   "cell_type": "markdown",
   "id": "c477c775",
   "metadata": {},
   "source": [
    "They are:\n",
    "- funny\n",
    "- kind\n",
    "- playful"
   ]
  },
  {
   "cell_type": "markdown",
   "id": "ca2ee6c2",
   "metadata": {},
   "source": [
    "![](https://www.posternazakaz.ru/pnz/canvas/8f87826463e775966ad92e53586c56b3.jpg)"
   ]
  }
 ],
 "metadata": {
  "kernelspec": {
   "display_name": "Python 3 (ipykernel)",
   "language": "python",
   "name": "python3"
  },
  "language_info": {
   "codemirror_mode": {
    "name": "ipython",
    "version": 3
   },
   "file_extension": ".py",
   "mimetype": "text/x-python",
   "name": "python",
   "nbconvert_exporter": "python",
   "pygments_lexer": "ipython3",
   "version": "3.9.0"
  }
 },
 "nbformat": 4,
 "nbformat_minor": 5
}
